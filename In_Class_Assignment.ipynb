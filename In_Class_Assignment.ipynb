{
  "nbformat": 4,
  "nbformat_minor": 0,
  "metadata": {
    "colab": {
      "provenance": [],
      "authorship_tag": "ABX9TyNbt8IKSh0sMQ7H3ClNJMLR",
      "include_colab_link": true
    },
    "kernelspec": {
      "name": "python3",
      "display_name": "Python 3"
    },
    "language_info": {
      "name": "python"
    }
  },
  "cells": [
    {
      "cell_type": "markdown",
      "metadata": {
        "id": "view-in-github",
        "colab_type": "text"
      },
      "source": [
        "<a href=\"https://colab.research.google.com/github/djacobsen04/In-Class-Assignment/blob/main/In_Class_Assignment.ipynb\" target=\"_parent\"><img src=\"https://colab.research.google.com/assets/colab-badge.svg\" alt=\"Open In Colab\"/></a>"
      ]
    },
    {
      "cell_type": "markdown",
      "source": [
        "1. Shape Area Calculator"
      ],
      "metadata": {
        "id": "ogN_s7jObWW7"
      }
    },
    {
      "cell_type": "code",
      "execution_count": 47,
      "metadata": {
        "colab": {
          "base_uri": "https://localhost:8080/"
        },
        "id": "IigOxBx2Yegv",
        "outputId": "d221dba5-5151-4ad8-ec11-ffdb94a94d65"
      },
      "outputs": [
        {
          "output_type": "stream",
          "name": "stdout",
          "text": [
            "244.92000000000002\n"
          ]
        }
      ],
      "source": [
        "pi = 3.14\n",
        "radius = 3\n",
        "height = 10\n",
        "\n",
        "SA = 2*pi*radius**2 + 2*pi*radius*height\n",
        "print(SA)"
      ]
    },
    {
      "cell_type": "markdown",
      "source": [
        "2.Rock-Paper-Scissors(While Loop)"
      ],
      "metadata": {
        "id": "H_tzEbdObTMC"
      }
    },
    {
      "cell_type": "code",
      "source": [
        "import random\n",
        "choice = input(\"Do you want to play rock, paper, scissors? (y/n)\")\n",
        "if choice == \"n\":\n",
        "    print(\"Goodbye\")\n",
        "\n",
        "while choice == \"y\":\n",
        "  p1 = input(\"Player 1, please choose rock, paper, or scissors: \")\n",
        "  p2 = random.choice([\"rock\", \"paper\", \"scissors\"])\n",
        "  print(f'computer chose {p2}')\n",
        "\n",
        "  if p1 == p2:\n",
        "    print(\"It's a tie!\")\n",
        "  elif  ((p1 == \"rock\" and p2 == \"scissors\") or (p1 == \"paper\" and p2 == \"rock\") or (p1 == \"scissors\" and p2 == \"paper\")):\n",
        "    print(\"Player 1 wins!\")\n",
        "  else:\n",
        "    print(\"Computer wins!\")\n",
        "  break"
      ],
      "metadata": {
        "colab": {
          "base_uri": "https://localhost:8080/"
        },
        "id": "XbJQcU6vpgJ4",
        "outputId": "3daac8df-7411-475d-8ea5-cf20c86463f0"
      },
      "execution_count": 46,
      "outputs": [
        {
          "output_type": "stream",
          "name": "stdout",
          "text": [
            "Do you want to play rock, paper, scissors? (y/n)n\n",
            "Goodbye\n"
          ]
        }
      ]
    },
    {
      "cell_type": "markdown",
      "source": [
        "3. Numerical Calculator"
      ],
      "metadata": {
        "id": "kfSDa1Z_bSC8"
      }
    },
    {
      "cell_type": "code",
      "source": [
        "print(\"Enter numbers into the calculator\")\n",
        "n1 = float(input(\"n1 = \"))\n",
        "symbol = str(input(\"symbol (+, -, *, /, **): \"))\n",
        "n2 = float(input(\"n2 = \"))\n",
        "\n",
        "if symbol == \"+\":\n",
        "  print(n1+n2)\n",
        "elif symbol == \"-\":\n",
        "  print(n1-n2)\n",
        "elif symbol == \"*\":\n",
        "  print(n1*n2)\n",
        "elif symbol == \"/\":\n",
        "  print(n1/n2)\n",
        "elif symbol == \"**\":\n",
        "  print(n1**n2)\n",
        "else:\n",
        "  print(\"Invalid symbol\")"
      ],
      "metadata": {
        "colab": {
          "base_uri": "https://localhost:8080/"
        },
        "collapsed": true,
        "id": "MgDGKehAsj7V",
        "outputId": "7e343744-49c2-4c5d-eda0-63078f8d2b74"
      },
      "execution_count": 45,
      "outputs": [
        {
          "output_type": "stream",
          "name": "stdout",
          "text": [
            "Enter numbers into the calculator\n",
            "n1 = 6\n",
            "symbol (+, -, *, /, **): +\n",
            "n2 = 9\n",
            "15.0\n"
          ]
        }
      ]
    },
    {
      "cell_type": "markdown",
      "source": [
        "4. Parking Garage"
      ],
      "metadata": {
        "id": "NP3CM9Zot429"
      }
    },
    {
      "cell_type": "code",
      "source": [
        "   flatRate = 5\n",
        "   hourlyRate = 2.5\n",
        "\n",
        "   for hour in range(1,9,1):\n",
        "    charge = flatRate + hourlyRate * hour\n",
        "    if charge<10:\n",
        "      charge=10.0\n",
        "    elif charge > 20:\n",
        "        charge=20.0\n",
        "    print(hour,charge)\n"
      ],
      "metadata": {
        "colab": {
          "base_uri": "https://localhost:8080/"
        },
        "id": "kw3CF2wlt7gP",
        "outputId": "eac59bab-6bd6-4fc1-db5e-3dadc87c2059"
      },
      "execution_count": 44,
      "outputs": [
        {
          "output_type": "stream",
          "name": "stdout",
          "text": [
            "1 10.0\n",
            "2 10.0\n",
            "3 12.5\n",
            "4 15.0\n",
            "5 17.5\n",
            "6 20.0\n",
            "7 20.0\n",
            "8 20.0\n"
          ]
        }
      ]
    },
    {
      "cell_type": "markdown",
      "source": [
        "5. Movie Theatre"
      ],
      "metadata": {
        "id": "mCj0I09ZvMtC"
      }
    },
    {
      "cell_type": "code",
      "source": [
        "  for ad in range(0,201,25):\n",
        "    additional = 2 * (ad**0.5)\n",
        "    profit = (20+additional)*10-200-ad\n",
        "    print(ad,profit)\n",
        "\n",
        "\n"
      ],
      "metadata": {
        "colab": {
          "base_uri": "https://localhost:8080/"
        },
        "id": "kbr3HoG_xScR",
        "outputId": "6bebcc73-c2fd-45a4-b4f1-95ae1ef6641f"
      },
      "execution_count": 43,
      "outputs": [
        {
          "output_type": "stream",
          "name": "stdout",
          "text": [
            "0 0.0\n",
            "25 75.0\n",
            "50 91.42135623730951\n",
            "75 98.20508075688781\n",
            "100 100.0\n",
            "125 98.60679774997897\n",
            "150 94.94897427831779\n",
            "175 89.57513110645903\n",
            "200 82.84271247461902\n"
          ]
        }
      ]
    },
    {
      "cell_type": "markdown",
      "source": [
        "6. Months2Numbers Dictionary"
      ],
      "metadata": {
        "id": "DJuSDXThxr4m"
      }
    },
    {
      "cell_type": "code",
      "source": [
        "   months = {}\n",
        "\n",
        "   names = [\"January\", \"February\", \"March\", \"April\", \"May\", \"June\", \"July\", \"August\", \"September\", \"October\", \"November\", \"December\"]\n",
        "   numbers = [1,2,3,4,5,6,7,8,9,10,11,12]\n",
        "\n",
        "   for i in range(len(names)):\n",
        "    months[numbers[i]] = names[i]\n",
        "   months\n"
      ],
      "metadata": {
        "colab": {
          "base_uri": "https://localhost:8080/"
        },
        "id": "rCpNmE3bxyfu",
        "outputId": "4ceceb2b-3a43-45f3-cc61-706c94506ade"
      },
      "execution_count": 42,
      "outputs": [
        {
          "output_type": "execute_result",
          "data": {
            "text/plain": [
              "{1: 'January',\n",
              " 2: 'February',\n",
              " 3: 'March',\n",
              " 4: 'April',\n",
              " 5: 'May',\n",
              " 6: 'June',\n",
              " 7: 'July',\n",
              " 8: 'August',\n",
              " 9: 'September',\n",
              " 10: 'October',\n",
              " 11: 'November',\n",
              " 12: 'December'}"
            ]
          },
          "metadata": {},
          "execution_count": 42
        }
      ]
    },
    {
      "cell_type": "markdown",
      "source": [
        "7.Parking Garage( Fee Calc and Display)"
      ],
      "metadata": {
        "id": "aq2IeIzbzrHY"
      }
    },
    {
      "cell_type": "code",
      "source": [
        "  def displayFee(fee):\n",
        "    print(fee)\n",
        "\n",
        "  def calcFee(hours, decimals=2):\n",
        "    fee = 5 + hours * 2.5\n",
        "    return fee\n",
        "\n",
        "  hours_parked = int(input(\"Enter hours parked: \"))\n",
        "  fee = calcFee(hours_parked)\n",
        "  displayFee(fee)"
      ],
      "metadata": {
        "colab": {
          "base_uri": "https://localhost:8080/"
        },
        "id": "WByVXGSqz0zB",
        "outputId": "c4ac689c-58ec-4e4d-df6d-6e161b7e6c00"
      },
      "execution_count": 41,
      "outputs": [
        {
          "output_type": "stream",
          "name": "stdout",
          "text": [
            "Enter hours parked: 6\n",
            "20.0\n"
          ]
        }
      ]
    },
    {
      "cell_type": "markdown",
      "source": [
        "8.Reverse Function(Recursion)"
      ],
      "metadata": {
        "id": "TzKszIw3z0Bc"
      }
    },
    {
      "cell_type": "code",
      "source": [
        "def rev(s):\n",
        "  if len(s) == 1:\n",
        "    return s\n",
        "  else:\n",
        "    return rev(s[1:]) + s[0]\n",
        "rev(\"Monday\")"
      ],
      "metadata": {
        "colab": {
          "base_uri": "https://localhost:8080/",
          "height": 35
        },
        "id": "csZLNgiK0hMx",
        "outputId": "d7e26da2-b6c9-46d8-e09c-5aebc449f765"
      },
      "execution_count": 40,
      "outputs": [
        {
          "output_type": "execute_result",
          "data": {
            "text/plain": [
              "'yadnoM'"
            ],
            "application/vnd.google.colaboratory.intrinsic+json": {
              "type": "string"
            }
          },
          "metadata": {},
          "execution_count": 40
        }
      ]
    },
    {
      "cell_type": "markdown",
      "source": [
        "9. Student Class"
      ],
      "metadata": {
        "id": "gtoUQoDW1F05"
      }
    },
    {
      "cell_type": "code",
      "source": [
        "   class student:\n",
        "    def __init__(self, name, number):\n",
        "        self.name = name\n",
        "        self.number = number\n",
        "    def __str__(self):\n",
        "        return f\"Name: {self.name}.\"\n",
        "   s1 = student(\"James Bond\", \"007\")\n",
        "   s2 = student(\"Clark Kent\", \"333\")\n",
        "\n",
        "   print(s1)\n",
        "\n",
        "\n",
        ""
      ],
      "metadata": {
        "colab": {
          "base_uri": "https://localhost:8080/"
        },
        "id": "XYfEAER-1EJU",
        "outputId": "b399d75b-b243-43ab-8eaf-8258096ccfb5"
      },
      "execution_count": 39,
      "outputs": [
        {
          "output_type": "stream",
          "name": "stdout",
          "text": [
            "Name: James Bond.\n"
          ]
        }
      ]
    }
  ]
}